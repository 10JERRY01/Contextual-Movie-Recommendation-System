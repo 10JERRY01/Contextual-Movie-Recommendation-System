{
 "cells": [
  {
   "cell_type": "markdown",
   "metadata": {},
   "source": [
    "# Load and Explore Data"
   ]
  },
  {
   "cell_type": "code",
   "execution_count": 1,
   "metadata": {},
   "outputs": [
    {
     "name": "stdout",
     "output_type": "stream",
     "text": [
      "Movies dataset:\n",
      "   movieId                               title  \\\n",
      "0        1                    Toy Story (1995)   \n",
      "1        2                      Jumanji (1995)   \n",
      "2        3             Grumpier Old Men (1995)   \n",
      "3        4            Waiting to Exhale (1995)   \n",
      "4        5  Father of the Bride Part II (1995)   \n",
      "\n",
      "                                        genres  \n",
      "0  Adventure|Animation|Children|Comedy|Fantasy  \n",
      "1                   Adventure|Children|Fantasy  \n",
      "2                               Comedy|Romance  \n",
      "3                         Comedy|Drama|Romance  \n",
      "4                                       Comedy  \n",
      "\n",
      "Tags dataset:\n",
      "   userId  movieId            tag   timestamp\n",
      "0      10      260   good vs evil  1430666558\n",
      "1      10      260  Harrison Ford  1430666505\n",
      "2      10      260         sci-fi  1430666538\n",
      "3      14     1221      Al Pacino  1311600756\n",
      "4      14     1221          mafia  1311600746\n",
      "\n",
      "Ratings dataset:\n",
      "   userId  movieId  rating   timestamp\n",
      "0       1        1     4.0  1225734739\n",
      "1       1      110     4.0  1225865086\n",
      "2       1      158     4.0  1225733503\n",
      "3       1      260     4.5  1225735204\n",
      "4       1      356     5.0  1225735119\n",
      "\n",
      "Links dataset:\n",
      "   movieId  imdbId   tmdbId\n",
      "0        1  114709    862.0\n",
      "1        2  113497   8844.0\n",
      "2        3  113228  15602.0\n",
      "3        4  114885  31357.0\n",
      "4        5  113041  11862.0\n",
      "\n",
      "Genome Tags dataset:\n",
      "   tagId           tag\n",
      "0      1           007\n",
      "1      2  007 (series)\n",
      "2      3  18th century\n",
      "3      4         1920s\n",
      "4      5         1930s\n",
      "\n",
      "Genome Scores dataset:\n",
      "   movieId  tagId  relevance\n",
      "0        1      1    0.03200\n",
      "1        1      2    0.02225\n",
      "2        1      3    0.07000\n",
      "3        1      4    0.05900\n",
      "4        1      5    0.12300\n"
     ]
    }
   ],
   "source": [
    "import pandas as pd\n",
    "\n",
    "# Step 1.1: Load datasets\n",
    "movies = pd.read_csv('movies.csv')\n",
    "tags = pd.read_csv('tags.csv')\n",
    "ratings = pd.read_csv('ratings.csv')\n",
    "links = pd.read_csv('links.csv')\n",
    "genome_tags = pd.read_csv('genome-tags.csv')\n",
    "genome_scores = pd.read_csv('genome-scores.csv')\n",
    "\n",
    "# Step 1.2: Inspect data\n",
    "print(\"Movies dataset:\")\n",
    "print(movies.head())\n",
    "\n",
    "print(\"\\nTags dataset:\")\n",
    "print(tags.head())\n",
    "\n",
    "print(\"\\nRatings dataset:\")\n",
    "print(ratings.head())\n",
    "\n",
    "print(\"\\nLinks dataset:\")\n",
    "print(links.head())\n",
    "\n",
    "print(\"\\nGenome Tags dataset:\")\n",
    "print(genome_tags.head())\n",
    "\n",
    "print(\"\\nGenome Scores dataset:\")\n",
    "print(genome_scores.head())\n"
   ]
  },
  {
   "cell_type": "markdown",
   "metadata": {},
   "source": [
    "# Merge Relevant Data"
   ]
  },
  {
   "cell_type": "code",
   "execution_count": 14,
   "metadata": {},
   "outputs": [
    {
     "name": "stdout",
     "output_type": "stream",
     "text": [
      "Processed dataset shape: (53452, 3)\n",
      "   movieId                               title  \\\n",
      "0        1                    Toy Story (1995)   \n",
      "1        2                      Jumanji (1995)   \n",
      "2        3             Grumpier Old Men (1995)   \n",
      "3        4            Waiting to Exhale (1995)   \n",
      "4        5  Father of the Bride Part II (1995)   \n",
      "\n",
      "                                            all_tags  \n",
      "0  animation friendship toys animation Disney Pix...  \n",
      "1  animals based on a book fantasy magic board ga...  \n",
      "2  sequel moldy old old age old men wedding old p...  \n",
      "3  characters chick flick girl movie characters c...  \n",
      "4  family pregnancy wedding 4th wall aging baby d...  \n",
      "final_data.csv has been saved!\n"
     ]
    }
   ],
   "source": [
    "# Step 2.1: Merge movies and tags\n",
    "movies_tags = tags.merge(movies, on=\"movieId\", how=\"inner\")\n",
    "\n",
    "# Step 2.2: Summarize tags for each movie\n",
    "# Combine all tags for a movie into a single string\n",
    "movie_tag_summary = movies_tags.groupby(\"movieId\").agg({\n",
    "    \"tag\": lambda x: \" \".join(x.dropna().astype(str)),  # Convert to string and concatenate\n",
    "    \"title\": \"first\",                                  # Keep the movie title\n",
    "    \"genres\": \"first\"                                  # Keep the movie genres\n",
    "}).reset_index()\n",
    "\n",
    "# Step 2.3: Merge genome-scores with genome-tags\n",
    "genome_data = genome_scores.merge(genome_tags, on=\"tagId\", how=\"inner\")\n",
    "\n",
    "# Keep only relevant tags (with high relevance scores) for each movie\n",
    "relevant_genome_tags = genome_data[genome_data[\"relevance\"] > 0.5]\n",
    "movie_genome_tags = relevant_genome_tags.groupby(\"movieId\").agg({\n",
    "    \"tag\": lambda x: \" \".join(x.dropna().astype(str))  # Convert to string and concatenate\n",
    "}).reset_index()\n",
    "\n",
    "# Step 2.4: Combine tags, genres, and genome-based tags\n",
    "final_data = movie_tag_summary.merge(movie_genome_tags, on=\"movieId\", how=\"left\")\n",
    "final_data[\"all_tags\"] = (\n",
    "    final_data[\"tag_x\"].fillna(\"\") + \" \" +\n",
    "    final_data[\"tag_y\"].fillna(\"\") + \" \" +\n",
    "    final_data[\"genres\"].fillna(\"\")\n",
    ")\n",
    "\n",
    "# Final dataset for recommendations\n",
    "final_data = final_data[[\"movieId\", \"title\", \"all_tags\"]].drop_duplicates()\n",
    "\n",
    "# Display the processed dataset\n",
    "print(f\"Processed dataset shape: {final_data.shape}\")\n",
    "print(final_data.head())\n",
    "# Save the final dataset as a CSV file\n",
    "final_data.to_csv('final_data.csv', index=False)\n",
    "print(\"final_data.csv has been saved!\")"
   ]
  },
  {
   "cell_type": "markdown",
   "metadata": {},
   "source": [
    "# Generate TF-IDF Embeddings"
   ]
  },
  {
   "cell_type": "code",
   "execution_count": null,
   "metadata": {},
   "outputs": [
    {
     "name": "stdout",
     "output_type": "stream",
     "text": [
      "TF-IDF matrix shape: (53452, 51797)\n",
      "Sample feature names: ['000' '007' '009' '01' '02' '03' '04' '05' '06' '07']\n"
     ]
    }
   ],
   "source": [
    "from sklearn.feature_extraction.text import TfidfVectorizer\n",
    "\n",
    "# Step 3.1: Create TF-IDF embeddings\n",
    "tfidf = TfidfVectorizer(stop_words='english')  # Exclude common stop words\n",
    "tfidf_matrix = tfidf.fit_transform(final_data['all_tags'].fillna(''))  # Generate TF-IDF vectors\n",
    "\n",
    "print(f\"TF-IDF matrix shape: {tfidf_matrix.shape}\")\n",
    "\n",
    "# Step 3.2: Verify feature names \n",
    "feature_names = tfidf.get_feature_names_out()\n",
    "print(f\"Sample feature names: {feature_names[:10]}\")\n"
   ]
  },
  {
   "cell_type": "markdown",
   "metadata": {},
   "source": [
    "# Build the Recommendation Engine"
   ]
  },
  {
   "cell_type": "code",
   "execution_count": 13,
   "metadata": {},
   "outputs": [
    {
     "name": "stdout",
     "output_type": "stream",
     "text": [
      "Recommendations for your query:\n",
      "       movieId                             title  similarity\n",
      "37208   166784           Parole Violators (1994)    0.427110\n",
      "16423    90600  Headhunters (Hodejegerne) (2011)    0.374388\n",
      "19906   109578                   Non-Stop (2014)    0.355212\n",
      "26396   132818       The Boss of Big Town (1942)    0.346965\n",
      "51264   253316                      Dutch (2021)    0.315770\n"
     ]
    }
   ],
   "source": [
    "from sklearn.metrics.pairwise import cosine_similarity\n",
    "\n",
    "# Step 4.1: Compute Cosine Similarity\n",
    "# Precompute cosine similarity between all movies\n",
    "cosine_sim = cosine_similarity(tfidf_matrix, tfidf_matrix)\n",
    "\n",
    "# Step 4.2: Create a Recommendation Function\n",
    "def recommend_movies(query, top_n=5):\n",
    "    \"\"\"\n",
    "    Recommend top N movies based on a user query or a specific movie title.\n",
    "\n",
    "    Parameters:\n",
    "    - query: str, user's input query (e.g., movie title or description keywords)\n",
    "    - top_n: int, number of recommendations to return\n",
    "\n",
    "    Returns:\n",
    "    - recommendations: DataFrame with recommended movies and their details\n",
    "    \"\"\"\n",
    "    # Transform the query into the TF-IDF space\n",
    "    query_vector = tfidf.transform([query])\n",
    "    \n",
    "    # Compute similarity between the query and all movies\n",
    "    query_similarity = cosine_similarity(query_vector, tfidf_matrix).flatten()\n",
    "    \n",
    "    # Get indices of top N similar movies\n",
    "    top_indices = query_similarity.argsort()[-top_n:][::-1]\n",
    "    \n",
    "    # Retrieve recommended movie details\n",
    "    recommendations = final_data.iloc[top_indices][['movieId', 'title']]\n",
    "    recommendations['similarity'] = query_similarity[top_indices]\n",
    "    return recommendations\n",
    "\n",
    "# Step 4.3: Test the Recommendation Engine\n",
    "user_query = \"Action movie with thrilling plot\"\n",
    "recommendations = recommend_movies(user_query, top_n=5)\n",
    "\n",
    "print(\"Recommendations for your query:\")\n",
    "print(recommendations)\n"
   ]
  },
  {
   "cell_type": "code",
   "execution_count": null,
   "metadata": {},
   "outputs": [],
   "source": []
  }
 ],
 "metadata": {
  "kernelspec": {
   "display_name": "Python 3",
   "language": "python",
   "name": "python3"
  },
  "language_info": {
   "codemirror_mode": {
    "name": "ipython",
    "version": 3
   },
   "file_extension": ".py",
   "mimetype": "text/x-python",
   "name": "python",
   "nbconvert_exporter": "python",
   "pygments_lexer": "ipython3",
   "version": "3.12.0"
  }
 },
 "nbformat": 4,
 "nbformat_minor": 2
}
